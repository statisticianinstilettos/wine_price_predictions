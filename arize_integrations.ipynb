{
 "cells": [
  {
   "cell_type": "markdown",
   "metadata": {
    "pycharm": {
     "name": "#%% md\n"
    }
   },
   "source": [
    "# Gradient Boosting Machines for Wine Points Predictions"
   ]
  },
  {
   "cell_type": "markdown",
   "metadata": {
    "pycharm": {
     "name": "#%% md\n"
    }
   },
   "source": [
    "Wine Spectator's 100-Point Scale\n",
    "\n",
    "95-100 Classic: a great wine.\n",
    "\n",
    "90-94 Outstanding: a wine of superior character and style.\n",
    "\n",
    "85-89 Very good: a wine with special qualities.\n",
    "\n",
    "80-84 Good: a solid, well-made wine.\n",
    "\n",
    "75-79 Mediocre: a drinkable wine that may have minor flaws.\n",
    "\n",
    "50-74 Not recommended."
   ]
  },
  {
   "cell_type": "code",
   "execution_count": 1,
   "metadata": {
    "pycharm": {
     "name": "#%%\n"
    }
   },
   "outputs": [],
   "source": [
    "import pandas as pd\n",
    "import numpy as np"
   ]
  },
  {
   "cell_type": "code",
   "execution_count": 2,
   "outputs": [],
   "source": [
    "from sklearn.model_selection import train_test_split\n",
    "from sklearn.metrics import median_absolute_error, mean_absolute_error\n",
    "from sklearn.feature_extraction.text import TfidfVectorizer\n",
    "from sklearn.decomposition import TruncatedSVD\n",
    "from nltk.tokenize import RegexpTokenizer\n",
    "import xgboost as xgb"
   ],
   "metadata": {
    "collapsed": false,
    "pycharm": {
     "name": "#%%\n"
    }
   }
  },
  {
   "cell_type": "code",
   "execution_count": 3,
   "metadata": {
    "pycharm": {
     "name": "#%%\n"
    }
   },
   "outputs": [
    {
     "name": "stdout",
     "output_type": "stream",
     "text": [
      "(137235, 3)\n"
     ]
    },
    {
     "data": {
      "text/plain": "                                              description  price  points\n10145   From a vineyard just behind the beach at Pampe...   18.0      88\n64099   A smooth wine that softens well, but that stil...   20.0      90\n128000  Chunky and spicy on the nose, with mid-level p...   10.0      84",
      "text/html": "<div>\n<style scoped>\n    .dataframe tbody tr th:only-of-type {\n        vertical-align: middle;\n    }\n\n    .dataframe tbody tr th {\n        vertical-align: top;\n    }\n\n    .dataframe thead th {\n        text-align: right;\n    }\n</style>\n<table border=\"1\" class=\"dataframe\">\n  <thead>\n    <tr style=\"text-align: right;\">\n      <th></th>\n      <th>description</th>\n      <th>price</th>\n      <th>points</th>\n    </tr>\n  </thead>\n  <tbody>\n    <tr>\n      <th>10145</th>\n      <td>From a vineyard just behind the beach at Pampe...</td>\n      <td>18.0</td>\n      <td>88</td>\n    </tr>\n    <tr>\n      <th>64099</th>\n      <td>A smooth wine that softens well, but that stil...</td>\n      <td>20.0</td>\n      <td>90</td>\n    </tr>\n    <tr>\n      <th>128000</th>\n      <td>Chunky and spicy on the nose, with mid-level p...</td>\n      <td>10.0</td>\n      <td>84</td>\n    </tr>\n  </tbody>\n</table>\n</div>"
     },
     "execution_count": 3,
     "metadata": {},
     "output_type": "execute_result"
    }
   ],
   "source": [
    "#Load data\n",
    "wine = pd.read_csv('data/winemag-data_first150k.csv', index_col=0, encoding=\"utf-8\")\n",
    "wine.dropna(subset=[\"price\", \"points\"], inplace=True)\n",
    "wine.reset_index(inplace=True, drop=True)\n",
    "wine = wine[['description', 'price', 'points']]\n",
    "print(wine.shape)\n",
    "wine.sample(3)"
   ]
  },
  {
   "cell_type": "markdown",
   "metadata": {
    "pycharm": {
     "name": "#%% md\n"
    }
   },
   "source": [
    "# Feature Engineering"
   ]
  },
  {
   "cell_type": "code",
   "execution_count": 4,
   "metadata": {
    "pycharm": {
     "name": "#%%\n"
    }
   },
   "outputs": [
    {
     "name": "stderr",
     "output_type": "stream",
     "text": [
      "<ipython-input-4-848bbd22fd97>:10: FutureWarning: The default value of regex will change from True to False in a future version.\n",
      "  wine[\"description\"] = wine[\"description\"].str.replace('\\d+', '')\n"
     ]
    }
   ],
   "source": [
    "def make_lower_case(text):\n",
    "    return text.lower()\n",
    "\n",
    "def remove_punctuation(text):\n",
    "    tokenizer = RegexpTokenizer(r'\\w+')\n",
    "    text = tokenizer.tokenize(text)\n",
    "    text = \" \".join(text)\n",
    "    return text\n",
    "\n",
    "wine[\"description\"] = wine[\"description\"].str.replace('\\d+', '')\n",
    "wine[\"description\"] = wine.description.apply(func=remove_punctuation)\n",
    "wine[\"description\"] = wine.description.apply(func=make_lower_case)"
   ]
  },
  {
   "cell_type": "code",
   "execution_count": 5,
   "metadata": {
    "pycharm": {
     "name": "#%%\n"
    }
   },
   "outputs": [
    {
     "data": {
      "text/plain": "   latent_description_0  latent_description_1  latent_description_2  \\\n0              0.122660             -0.036942             -0.006609   \n1              0.135296             -0.041562              0.014860   \n2              0.077102              0.047122             -0.015789   \n3              0.147137             -0.097132              0.032039   \n4              0.083745              0.001510             -0.080835   \n\n   latent_description_3  latent_description_4  \n0             -0.023325             -0.027913  \n1             -0.013014              0.008989  \n2             -0.006761              0.010789  \n3             -0.001155              0.027754  \n4             -0.099804             -0.022647  ",
      "text/html": "<div>\n<style scoped>\n    .dataframe tbody tr th:only-of-type {\n        vertical-align: middle;\n    }\n\n    .dataframe tbody tr th {\n        vertical-align: top;\n    }\n\n    .dataframe thead th {\n        text-align: right;\n    }\n</style>\n<table border=\"1\" class=\"dataframe\">\n  <thead>\n    <tr style=\"text-align: right;\">\n      <th></th>\n      <th>latent_description_0</th>\n      <th>latent_description_1</th>\n      <th>latent_description_2</th>\n      <th>latent_description_3</th>\n      <th>latent_description_4</th>\n    </tr>\n  </thead>\n  <tbody>\n    <tr>\n      <th>0</th>\n      <td>0.122660</td>\n      <td>-0.036942</td>\n      <td>-0.006609</td>\n      <td>-0.023325</td>\n      <td>-0.027913</td>\n    </tr>\n    <tr>\n      <th>1</th>\n      <td>0.135296</td>\n      <td>-0.041562</td>\n      <td>0.014860</td>\n      <td>-0.013014</td>\n      <td>0.008989</td>\n    </tr>\n    <tr>\n      <th>2</th>\n      <td>0.077102</td>\n      <td>0.047122</td>\n      <td>-0.015789</td>\n      <td>-0.006761</td>\n      <td>0.010789</td>\n    </tr>\n    <tr>\n      <th>3</th>\n      <td>0.147137</td>\n      <td>-0.097132</td>\n      <td>0.032039</td>\n      <td>-0.001155</td>\n      <td>0.027754</td>\n    </tr>\n    <tr>\n      <th>4</th>\n      <td>0.083745</td>\n      <td>0.001510</td>\n      <td>-0.080835</td>\n      <td>-0.099804</td>\n      <td>-0.022647</td>\n    </tr>\n  </tbody>\n</table>\n</div>"
     },
     "execution_count": 5,
     "metadata": {},
     "output_type": "execute_result"
    }
   ],
   "source": [
    "tf = TfidfVectorizer(analyzer='word', \n",
    "                     min_df=10,\n",
    "                     ngram_range=(1, 2),\n",
    "                     stop_words='english')\n",
    "svd = TruncatedSVD(n_components=5)\n",
    "\n",
    "#Fit tfidf and svd, and transform training data\n",
    "tfidf_matrix = tf.fit_transform(wine.description)\n",
    "lsa_features = pd.DataFrame(svd.fit_transform(tfidf_matrix))\n",
    "collist = map(str, range(0, 5))\n",
    "collist = [\"latent_description_\" + s for s in collist]\n",
    "lsa_features.columns = collist\n",
    "lsa_features.head()"
   ]
  },
  {
   "cell_type": "markdown",
   "metadata": {
    "pycharm": {
     "name": "#%% md\n"
    }
   },
   "source": [
    "# XGBoost Classification"
   ]
  },
  {
   "cell_type": "code",
   "execution_count": 20,
   "metadata": {
    "pycharm": {
     "name": "#%%\n"
    }
   },
   "outputs": [
    {
     "name": "stdout",
     "output_type": "stream",
     "text": [
      "[10:10:08] WARNING: /Users/runner/work/xgboost/xgboost/python-package/build/temp.macosx-11.0-arm64-3.8/xgboost/src/objective/regression_obj.cu:203: reg:linear is now deprecated in favor of reg:squarederror.\n",
      "[10:10:08] WARNING: /Users/runner/work/xgboost/xgboost/python-package/build/temp.macosx-11.0-arm64-3.8/xgboost/src/learner.cc:627: \n",
      "Parameters: { \"silent\" } might not be used.\n",
      "\n",
      "  This could be a false alarm, with some parameters getting used by language bindings but\n",
      "  then being mistakenly passed down to XGBoost core, or some parameter actually being used\n",
      "  but getting flagged wrongly here. Please open an issue if you find any such cases.\n",
      "\n",
      "\n",
      "[0]\ttrain-mae:2.06017\n",
      "[1]\ttrain-mae:1.96985\n",
      "[2]\ttrain-mae:1.93942\n",
      "[3]\ttrain-mae:1.92326\n",
      "[4]\ttrain-mae:1.89162\n",
      "[5]\ttrain-mae:1.87178\n",
      "[6]\ttrain-mae:1.86415\n",
      "[7]\ttrain-mae:1.85775\n",
      "[8]\ttrain-mae:1.84255\n",
      "[9]\ttrain-mae:1.83710\n"
     ]
    },
    {
     "name": "stderr",
     "output_type": "stream",
     "text": [
      "/Users/clairelongo/PycharmProjects/wine_quality_predictions/venv/lib/python3.8/site-packages/xgboost/core.py:525: FutureWarning: Pass `evals` as keyword args.  Passing these as positional arguments will be considered as error in future releases.\n",
      "  warnings.warn(\n"
     ]
    }
   ],
   "source": [
    "#Make atest train split\n",
    "X = pd.concat([lsa_features, wine[\"price\"]], axis=1)\n",
    "y = wine[\"points\"]\n",
    "X_train, X_test, y_train, y_test = train_test_split(X, y, test_size=0.3)\n",
    "\n",
    "#Format data\n",
    "dtrain = xgb.DMatrix(X_train, label=y_train)\n",
    "dtest = xgb.DMatrix(X_test, label=y_test)\n",
    "\n",
    "#Set xgboost parameters\n",
    "param = {'max_depth': 3, 'eta': 1, 'subsample':0.5, 'alpha':1}\n",
    "param['nthread'] = 4\n",
    "param['eval_metric'] = 'mae'\n",
    "param['objective'] = 'reg:linear'\n",
    "param['silent'] = 1\n",
    "evallist = [(dtrain, 'train')]\n",
    "num_round = 10\n",
    "\n",
    "#Train model\n",
    "bst = xgb.train(param, dtrain, num_round, evallist, early_stopping_rounds=10)"
   ]
  },
  {
   "cell_type": "code",
   "execution_count": 7,
   "metadata": {
    "pycharm": {
     "name": "#%%\n"
    }
   },
   "outputs": [
    {
     "name": "stdout",
     "output_type": "stream",
     "text": [
      "Mean Absolute Error: 1.85 points\n"
     ]
    },
    {
     "name": "stderr",
     "output_type": "stream",
     "text": [
      "/Users/clairelongo/PycharmProjects/wine_quality_predictions/venv/lib/python3.8/site-packages/xgboost/core.py:90: UserWarning: ntree_limit is deprecated, use `iteration_range` or model slicing instead.\n",
      "  warnings.warn(\n"
     ]
    }
   ],
   "source": [
    "pred = pd.DataFrame(y_test.copy())\n",
    "pred[\"prediction\"] = bst.predict(dtest, ntree_limit=bst.best_ntree_limit)\n",
    "\n",
    "mean_ae = np.round(mean_absolute_error(y_true=pred[\"points\"], y_pred=pred[\"prediction\"]),2)\n",
    "median_ae = np.round(median_absolute_error(y_true=pred[\"points\"], y_pred=pred[\"prediction\"]),2)\n",
    "print (\"Mean Absolute Error: {} points\".format(mean_ae))"
   ]
  },
  {
   "cell_type": "code",
   "execution_count": 8,
   "metadata": {
    "pycharm": {
     "name": "#%%\n"
    }
   },
   "outputs": [
    {
     "data": {
      "text/plain": "<AxesSubplot:title={'center':'Feature importance'}, xlabel='F score', ylabel='Features'>"
     },
     "execution_count": 8,
     "metadata": {},
     "output_type": "execute_result"
    },
    {
     "data": {
      "text/plain": "<Figure size 432x288 with 1 Axes>",
      "image/png": "[encoded data removed]"
     },
     "metadata": {
      "needs_background": "light"
     },
     "output_type": "display_data"
    }
   ],
   "source": [
    "xgb.plot_importance(bst,max_num_features=15)"
   ]
  },
  {
   "cell_type": "code",
   "execution_count": 58,
   "outputs": [
    {
     "name": "stdout",
     "output_type": "stream",
     "text": [
      "TFIDF processor trained and saved!\n",
      "SVD processor trained and saved!\n",
      "XGboost Model trained and saved!\n"
     ]
    }
   ],
   "source": [
    "#Save your models\n",
    "import joblib\n",
    "import os\n",
    "\n",
    "model_dir = \"model/\"\n",
    "\n",
    " ## save TF-IDF and SVD models\n",
    "joblib.dump(tf, os.path.join(model_dir, \"tfidf.joblib\"))\n",
    "print(\"TFIDF processor trained and saved!\".format(os.path.join(model_dir, \"tfidf.joblib\")))\n",
    "\n",
    "joblib.dump(svd, os.path.join(model_dir, \"svd.joblib\"))\n",
    "print(\"SVD processor trained and saved!\".format(os.path.join(model_dir, \"svd.joblib\")))\n",
    "\n",
    "#Save xgboost model\n",
    "joblib.dump(bst, os.path.join(model_dir, \"model.joblib\"))\n",
    "print(\"XGboost Model trained and saved!\".format(os.path.join(model_dir, \"model.joblib\")))"
   ],
   "metadata": {
    "collapsed": false,
    "pycharm": {
     "name": "#%%\n"
    }
   }
  },
  {
   "cell_type": "code",
   "execution_count": 59,
   "metadata": {
    "pycharm": {
     "name": "#%%\n"
    }
   },
   "outputs": [],
   "source": [
    "#xgb.to_graphviz(bst, num_trees=1)"
   ]
  },
  {
   "cell_type": "markdown",
   "source": [
    "# Integrate with Arize"
   ],
   "metadata": {
    "collapsed": false,
    "pycharm": {
     "name": "#%% md\n"
    }
   }
  },
  {
   "cell_type": "code",
   "execution_count": 60,
   "outputs": [],
   "source": [
    "#Lets f around with Arize. Lets use the pandas logger to get some\n",
    "#and use the real time logger to get some inference in for some live examples."
   ],
   "metadata": {
    "collapsed": false,
    "pycharm": {
     "name": "#%%\n"
    }
   }
  },
  {
   "cell_type": "code",
   "execution_count": 9,
   "outputs": [
    {
     "name": "stderr",
     "output_type": "stream",
     "text": [
      "/Users/clairelongo/PycharmProjects/wine_quality_predictions/venv/lib/python3.8/site-packages/xgboost/core.py:90: UserWarning: ntree_limit is deprecated, use `iteration_range` or model slicing instead.\n",
      "  warnings.warn(\n"
     ]
    },
    {
     "data": {
      "text/plain": "   latent_description_0  latent_description_1  latent_description_2  \\\n0              0.062276             -0.024134              0.034599   \n1              0.119464             -0.011537              0.034213   \n2              0.157964             -0.100228             -0.035699   \n3              0.106518             -0.006388              0.034230   \n4              0.088124             -0.053319              0.001254   \n\n   latent_description_3  latent_description_4  price  ACTUALS  PREDICTED  \\\n0              0.005343              0.005947   75.0     95.0  88.680779   \n1             -0.036058              0.067551   30.0     90.0  89.040749   \n2              0.083655             -0.008681   20.0     84.0  85.803169   \n3              0.017197             -0.035522   39.0     91.0  88.337486   \n4             -0.039704             -0.000437   53.0     89.0  91.169510   \n\n              ITEM_ID  test_data type  \n0  143597770043857246          1  Red  \n1  275465994066019657          1  Red  \n2  364239323660383763          1  Red  \n3  245614778599459688          1  Red  \n4  203200149344781774          1  Red  ",
      "text/html": "<div>\n<style scoped>\n    .dataframe tbody tr th:only-of-type {\n        vertical-align: middle;\n    }\n\n    .dataframe tbody tr th {\n        vertical-align: top;\n    }\n\n    .dataframe thead th {\n        text-align: right;\n    }\n</style>\n<table border=\"1\" class=\"dataframe\">\n  <thead>\n    <tr style=\"text-align: right;\">\n      <th></th>\n      <th>latent_description_0</th>\n      <th>latent_description_1</th>\n      <th>latent_description_2</th>\n      <th>latent_description_3</th>\n      <th>latent_description_4</th>\n      <th>price</th>\n      <th>ACTUALS</th>\n      <th>PREDICTED</th>\n      <th>ITEM_ID</th>\n      <th>test_data</th>\n      <th>type</th>\n    </tr>\n  </thead>\n  <tbody>\n    <tr>\n      <th>0</th>\n      <td>0.062276</td>\n      <td>-0.024134</td>\n      <td>0.034599</td>\n      <td>0.005343</td>\n      <td>0.005947</td>\n      <td>75.0</td>\n      <td>95.0</td>\n      <td>88.680779</td>\n      <td>143597770043857246</td>\n      <td>1</td>\n      <td>Red</td>\n    </tr>\n    <tr>\n      <th>1</th>\n      <td>0.119464</td>\n      <td>-0.011537</td>\n      <td>0.034213</td>\n      <td>-0.036058</td>\n      <td>0.067551</td>\n      <td>30.0</td>\n      <td>90.0</td>\n      <td>89.040749</td>\n      <td>275465994066019657</td>\n      <td>1</td>\n      <td>Red</td>\n    </tr>\n    <tr>\n      <th>2</th>\n      <td>0.157964</td>\n      <td>-0.100228</td>\n      <td>-0.035699</td>\n      <td>0.083655</td>\n      <td>-0.008681</td>\n      <td>20.0</td>\n      <td>84.0</td>\n      <td>85.803169</td>\n      <td>364239323660383763</td>\n      <td>1</td>\n      <td>Red</td>\n    </tr>\n    <tr>\n      <th>3</th>\n      <td>0.106518</td>\n      <td>-0.006388</td>\n      <td>0.034230</td>\n      <td>0.017197</td>\n      <td>-0.035522</td>\n      <td>39.0</td>\n      <td>91.0</td>\n      <td>88.337486</td>\n      <td>245614778599459688</td>\n      <td>1</td>\n      <td>Red</td>\n    </tr>\n    <tr>\n      <th>4</th>\n      <td>0.088124</td>\n      <td>-0.053319</td>\n      <td>0.001254</td>\n      <td>-0.039704</td>\n      <td>-0.000437</td>\n      <td>53.0</td>\n      <td>89.0</td>\n      <td>91.169510</td>\n      <td>203200149344781774</td>\n      <td>1</td>\n      <td>Red</td>\n    </tr>\n  </tbody>\n</table>\n</div>"
     },
     "execution_count": 9,
     "metadata": {},
     "output_type": "execute_result"
    }
   ],
   "source": [
    "#WTF Does our data look like?\n",
    "\n",
    "df_test = X_test.copy()\n",
    "df_test[\"ACTUALS\"] = y_test #add the labels\n",
    "df_test[\"ACTUALS\"] = df_test[\"ACTUALS\"].astype('float64')\n",
    "df_test[\"PREDICTED\"] = bst.predict(dtest, ntree_limit=bst.best_ntree_limit) #add the actuals\n",
    "df_test[\"PREDICTED\"] = df_test[\"PREDICTED\"].astype('float64')\n",
    "df_test.reset_index(inplace=True)\n",
    "df_test[\"ITEM_ID\"] = df_test[['index', 'latent_description_0', 'price']].sum(axis=1).map(hash)\n",
    "df_test.drop(columns=['index'], inplace=True)\n",
    "\n",
    "#Make a tag to call it test data\n",
    "df_test[\"test_data\"] = 1\n",
    "#make a made-up tag for red and white wines\n",
    "df_test[\"type\"] = \"White\"\n",
    "df_test.iloc[0:20000, df_test.columns.get_loc('type')] = \"Red\"\n",
    "df_test.head()"
   ],
   "metadata": {
    "collapsed": false,
    "pycharm": {
     "name": "#%%\n"
    }
   }
  },
  {
   "cell_type": "code",
   "execution_count": 10,
   "outputs": [
    {
     "data": {
      "text/plain": "latent_description_0    float64\nlatent_description_1    float64\nlatent_description_2    float64\nlatent_description_3    float64\nlatent_description_4    float64\nprice                   float64\nACTUALS                 float64\nPREDICTED               float64\nITEM_ID                   int64\ntest_data                 int64\ntype                     object\ndtype: object"
     },
     "execution_count": 10,
     "metadata": {},
     "output_type": "execute_result"
    }
   ],
   "source": [
    "df_test.dtypes"
   ],
   "metadata": {
    "collapsed": false,
    "pycharm": {
     "name": "#%%\n"
    }
   }
  },
  {
   "cell_type": "code",
   "execution_count": 12,
   "outputs": [
    {
     "ename": "NameError",
     "evalue": "name 'Schema' is not defined",
     "output_type": "error",
     "traceback": [
      "\u001B[0;31m---------------------------------------------------------------------------\u001B[0m",
      "\u001B[0;31mNameError\u001B[0m                                 Traceback (most recent call last)",
      "\u001B[0;32m<ipython-input-12-387d6b9657a6>\u001B[0m in \u001B[0;36m<module>\u001B[0;34m\u001B[0m\n\u001B[1;32m      6\u001B[0m                         'price']\n\u001B[1;32m      7\u001B[0m \u001B[0;34m\u001B[0m\u001B[0m\n\u001B[0;32m----> 8\u001B[0;31m test_schema = Schema(\n\u001B[0m\u001B[1;32m      9\u001B[0m     \u001B[0mprediction_id_column_name\u001B[0m\u001B[0;34m=\u001B[0m\u001B[0;34m\"ITEM_ID\"\u001B[0m\u001B[0;34m,\u001B[0m\u001B[0;34m\u001B[0m\u001B[0;34m\u001B[0m\u001B[0m\n\u001B[1;32m     10\u001B[0m     \u001B[0mprediction_label_column_name\u001B[0m\u001B[0;34m=\u001B[0m\u001B[0;34m\"PREDICTED\"\u001B[0m\u001B[0;34m,\u001B[0m\u001B[0;34m\u001B[0m\u001B[0;34m\u001B[0m\u001B[0m\n",
      "\u001B[0;31mNameError\u001B[0m: name 'Schema' is not defined"
     ]
    }
   ],
   "source": [
    "feature_column_names = ['latent_description_0',\n",
    "                        'latent_description_1',\n",
    "                        'latent_description_2',\n",
    "                        'latent_description_3',\n",
    "                        'latent_description_4',\n",
    "                        'price']\n",
    "\n",
    "test_schema = Schema(\n",
    "    prediction_id_column_name=\"ITEM_ID\",\n",
    "    prediction_label_column_name=\"PREDICTED\",\n",
    "    actual_label_column_name=\"ACTUALS\",\n",
    "    feature_column_names=feature_column_names,\n",
    "    tag_column_names =['test_data','type'],\n",
    ")"
   ],
   "metadata": {
    "collapsed": false,
    "pycharm": {
     "name": "#%%\n"
    }
   }
  },
  {
   "cell_type": "code",
   "execution_count": null,
   "outputs": [],
   "source": [
    "from arize.pandas.logger import Client, Schema\n",
    "from arize.utils.types import Environments, ModelTypes\n",
    "\n",
    "API_KEY = '...'\n",
    "SPACE_KEY = '...'\n",
    "arize_client = Client(space_key=SPACE_KEY, api_key=API_KEY)"
   ],
   "metadata": {
    "collapsed": false,
    "pycharm": {
     "name": "#%%\n"
    }
   }
  },
  {
   "cell_type": "code",
   "execution_count": null,
   "outputs": [],
   "source": [
    "SPACE_KEY = SPACE_KEY\n",
    "API_KEY = API_KEY\n",
    "\n",
    "arize_client = Client(space_key=SPACE_KEY, api_key=API_KEY)\n",
    "\n",
    "model_id = (\n",
    "    \"claires_wine_tree_model\"  # This is the model name that will show up in Arize\n",
    ")\n",
    "model_version = \"v1.0\"  # Version of model - can be any string\n",
    "\n",
    "if SPACE_KEY == \"SPACE_KEY\" or API_KEY == \"API_KEY\":\n",
    "    raise ValueError(\"❌ NEED TO CHANGE SPACE AND/OR API_KEY\")\n",
    "else:\n",
    "    print(\"✅ Arize setup complete!\")"
   ],
   "metadata": {
    "collapsed": false,
    "pycharm": {
     "name": "#%%\n"
    }
   }
  },
  {
   "cell_type": "code",
   "execution_count": null,
   "outputs": [],
   "source": [
    "# Logging Training DataFrame\n",
    "test_response = arize_client.log(\n",
    "    dataframe=df_test,\n",
    "    model_id=model_id,\n",
    "    model_version=model_version,\n",
    "    model_type=ModelTypes.NUMERIC,\n",
    "    environment=Environments.TRAINING,\n",
    "    schema=test_schema,\n",
    ")\n",
    "\n",
    "# If successful, the server will return a status_code of 200\n",
    "if test_response.status_code != 200:\n",
    "    print(\n",
    "        f\"logging failed with response code {test_response.status_code}, {test_response.text}\"\n",
    "    )\n",
    "else:\n",
    "    print(f\"✅ You have successfully logged training set to Arize\")"
   ],
   "metadata": {
    "collapsed": false,
    "pycharm": {
     "name": "#%%\n"
    }
   }
  },
  {
   "cell_type": "markdown",
   "source": [
    "# Live inference"
   ],
   "metadata": {
    "collapsed": false,
    "pycharm": {
     "name": "#%% md\n"
    }
   }
  },
  {
   "cell_type": "code",
   "execution_count": null,
   "outputs": [],
   "source": [
    "#Live inference\n",
    "#Dope now lets pull in some prediction data using the more real time shit"
   ],
   "metadata": {
    "collapsed": false,
    "pycharm": {
     "name": "#%%\n"
    }
   }
  },
  {
   "cell_type": "code",
   "execution_count": 13,
   "outputs": [],
   "source": [
    "from train_wine_gbt import input_fn, predict_fn\n",
    "import json\n",
    "import joblib\n",
    "import os"
   ],
   "metadata": {
    "collapsed": false,
    "pycharm": {
     "name": "#%%\n"
    }
   }
  },
  {
   "cell_type": "code",
   "execution_count": 14,
   "outputs": [],
   "source": [
    "#load model\n",
    "model_dir=\"model/\"\n",
    "bst = joblib.load(os.path.join(model_dir, \"model.joblib\"))"
   ],
   "metadata": {
    "collapsed": false,
    "pycharm": {
     "name": "#%%\n"
    }
   }
  },
  {
   "cell_type": "code",
   "execution_count": 15,
   "outputs": [],
   "source": [
    "#set up client and model for Arize\n",
    "from arize.api import Client\n",
    "from arize.utils.types import ModelTypes\n",
    "\n",
    "#Logging features and predictions and actuals\n",
    "API_KEY = '...'\n",
    "SPACE_KEY = '...'\n",
    "arize_client = Client(space_key=SPACE_KEY, api_key=API_KEY)\n",
    "\n",
    "model_id = (\n",
    "    \"claires_wine_tree_model\"  # This is the model name that will show up in Arize\n",
    ")\n",
    "model_version = \"v1.0\"  # Version of model - can be any string\n"
   ],
   "metadata": {
    "collapsed": false,
    "pycharm": {
     "name": "#%%\n"
    }
   }
  },
  {
   "cell_type": "code",
   "execution_count": 16,
   "outputs": [
    {
     "name": "stderr",
     "output_type": "stream",
     "text": [
      "/Users/clairelongo/PycharmProjects/wine_quality_predictions/train_wine_gbt.py:152: FutureWarning: The default value of regex will change from True to False in a future version.\n",
      "  one_wine[\"description\"] = one_wine[\"description\"].str.replace('\\d+', '')\n",
      "/Users/clairelongo/PycharmProjects/wine_quality_predictions/venv/lib/python3.8/site-packages/xgboost/core.py:90: UserWarning: ntree_limit is deprecated, use `iteration_range` or model slicing instead.\n",
      "  warnings.warn(\n"
     ]
    }
   ],
   "source": [
    "\n",
    "feature_payload = json.dumps({\"description\": \"with aromas of red fruits with hints of brioche; this Champagne brings layers of fruit and creaminess on palate with bright freshness leading to an elegant finish\",\n",
    "                   \"price\": 67.99})\n",
    "\n",
    "#format input for model\n",
    "input_object = input_fn(feature_payload, content_type=\"application/json\")\n",
    "#get prediction\n",
    "prediction_response = predict_fn(input_object, model=bst)\n",
    "\n",
    "#format the response and feature data for Arize\n",
    "prediction = prediction_response[\"predicted_points\"]\n",
    "ITEM_ID = input_object[['latent_description_0', 'price']].sum(axis=1).map(hash)[0]\n",
    "tags = {'test_data':0,'type':'White'}\n",
    "features = input_object.to_dict(orient='index')[0]\n",
    "the_actual = 90 #make some shit up"
   ],
   "metadata": {
    "collapsed": false,
    "pycharm": {
     "name": "#%%\n"
    }
   }
  },
  {
   "cell_type": "code",
   "execution_count": 17,
   "outputs": [
    {
     "name": "stdout",
     "output_type": "stream",
     "text": [
      "Success sending Prediction!\n"
     ]
    }
   ],
   "source": [
    "#log the features & prediction\n",
    "response = arize_client.log(\n",
    "    model_id=model_id,\n",
    "    model_type=ModelTypes.NUMERIC,\n",
    "    model_version=model_version,\n",
    "    prediction_id=ITEM_ID,\n",
    "    prediction_label =float(prediction),\n",
    "    prediction_timestamp=None, #will log the current time\n",
    "    features=features,\n",
    "    actual_label = the_actual,\n",
    "    tags=tags\n",
    ")\n",
    "\n",
    "res = response.result()\n",
    "if res.status_code == 200:\n",
    "    print('Success sending Prediction!')\n",
    "else:\n",
    "    print(f'Log failed with response code {res.status_code}, {res.text}')"
   ],
   "metadata": {
    "collapsed": false,
    "pycharm": {
     "name": "#%%\n"
    }
   }
  },
  {
   "cell_type": "code",
   "execution_count": 26,
   "outputs": [
    {
     "name": "stderr",
     "output_type": "stream",
     "text": [
      "/Users/clairelongo/PycharmProjects/wine_quality_predictions/venv/lib/python3.8/site-packages/xgboost/core.py:90: UserWarning: ntree_limit is deprecated, use `iteration_range` or model slicing instead.\n",
      "  warnings.warn(\n"
     ]
    }
   ],
   "source": [
    "#Get some batch predictions and actuals for S3 and GCP uploads\n",
    "#Getting predictions on training data so you can see maybe some overfitting\n",
    "\n",
    "df_train = X_train.copy()\n",
    "df_train = df_train #just grab 100\n",
    "dtrain = xgb.DMatrix(df_train, label=y_train)\n",
    "\n",
    "df_train[\"ACTUALS\"] = y_train #add the labels\n",
    "df_train[\"ACTUALS\"] = df_train[\"ACTUALS\"].astype('float64')\n",
    "\n",
    "df_train[\"PREDICTED\"] = bst.predict(dtrain, ntree_limit=bst.best_ntree_limit) #add the actuals\n",
    "df_train[\"PREDICTED\"] = df_train[\"PREDICTED\"].astype('float64')\n",
    "df_train.reset_index(inplace=True)\n",
    "df_train[\"ITEM_ID\"] = df_train[['index', 'latent_description_0', 'price']].sum(axis=1).map(hash)\n",
    "df_train.drop(columns=['index'], inplace=True)\n",
    "\n",
    "#Make a tag to call it test data\n",
    "df_train[\"test_data\"] = 1\n",
    "#make a made-up tag for red and white wines\n",
    "df_train[\"type\"] = \"White\"\n",
    "df_train.iloc[0:20000, df_train.columns.get_loc('type')] = \"Red\"\n",
    "df_train.head()\n",
    "\n",
    "#save to csv\n",
    "df_train.sample(100).to_csv('data/S3_predictions.csv')\n",
    "df_train.sample(100).to_csv('data/GCS_predictions.csv')"
   ],
   "metadata": {
    "collapsed": false,
    "pycharm": {
     "name": "#%%\n"
    }
   }
  },
  {
   "cell_type": "code",
   "execution_count": null,
   "outputs": [],
   "source": [],
   "metadata": {
    "collapsed": false,
    "pycharm": {
     "name": "#%%\n"
    }
   }
  }
 ],
 "metadata": {
  "kernelspec": {
   "name": "python3",
   "language": "python",
   "display_name": "Python 3"
  },
  "language_info": {
   "codemirror_mode": {
    "name": "ipython",
    "version": 3
   },
   "file_extension": ".py",
   "mimetype": "text/x-python",
   "name": "python",
   "nbconvert_exporter": "python",
   "pygments_lexer": "ipython3",
   "version": "3.6.5"
  }
 },
 "nbformat": 4,
 "nbformat_minor": 2
}